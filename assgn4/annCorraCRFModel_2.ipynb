{
 "cells": [
  {
   "cell_type": "markdown",
   "metadata": {},
   "source": [
    "# TESTING CODE"
   ]
  },
  {
   "cell_type": "markdown",
   "metadata": {},
   "source": [
    "Model Used: CRF\n",
    "Features: Previous and next 2 words, \n",
    "\n",
    "Evalutation:\n",
    "1. Precision: 0.872     \n",
    "2. Recall: 0.875     \n",
    "3. F1 Score: 0.873 "
   ]
  },
  {
   "cell_type": "code",
   "execution_count": 43,
   "metadata": {},
   "outputs": [],
   "source": [
    "test_file = codecs.open('./final_test.txt', 'r', encoding=\"utf-8\")\n",
    "testinput = test_file.read()"
   ]
  },
  {
   "cell_type": "code",
   "execution_count": 44,
   "metadata": {},
   "outputs": [],
   "source": [
    "X_test,y_test = prepareData(testinput)"
   ]
  },
  {
   "cell_type": "code",
   "execution_count": 35,
   "metadata": {},
   "outputs": [],
   "source": [
    "# print(len(X_test))\n",
    "# print(len(y_test))"
   ]
  },
  {
   "cell_type": "code",
   "execution_count": 56,
   "metadata": {},
   "outputs": [],
   "source": [
    "def test_dev_data(X_test,y_test):\n",
    "    crf = pickle.load(open('./annCorra_crf_pos_model', 'rb'))\n",
    "    y_pred=crf.predict(X_test)\n",
    "    print(\"F1 score on Test Data \")\n",
    "    print(metrics.flat_f1_score(y_test, y_pred,average='weighted',labels=crf.classes_))\n",
    "    print(\"F1 score on Training Data \")\n",
    "    y_pred_train=crf.predict(X_train)\n",
    "    print(metrics.flat_f1_score(y_train, y_pred_train,average='weighted',labels=crf.classes_))\n",
    "\n",
    "    ### Look at class wise score\n",
    "    print(metrics.flat_classification_report(\n",
    "        y_test, y_pred, labels=crf.classes_, digits=3\n",
    "    ))"
   ]
  },
  {
   "cell_type": "code",
   "execution_count": 57,
   "metadata": {},
   "outputs": [
    {
     "name": "stdout",
     "output_type": "stream",
     "text": [
      "F1 score on Test Data \n",
      "0.8726997179430607\n",
      "F1 score on Training Data \n",
      "0.970616867191031\n",
      "                precision    recall  f1-score   support\n",
      "\n",
      "          ccof      0.688     0.674     0.681      2490\n",
      "          rsym      0.999     1.000     0.999      2753\n",
      "            r6      0.836     0.902     0.867      2287\n",
      "      lwg__psp      0.998     0.999     0.999      8143\n",
      "          nmod      0.631     0.553     0.589       698\n",
      "     nmod__adj      0.930     0.962     0.946      3017\n",
      "         r6-k2      0.608     0.549     0.577       277\n",
      "           pof      0.860     0.875     0.867      1508\n",
      "       pof__cn      1.000     1.000     1.000      2701\n",
      "            k1      0.768     0.836     0.801      2302\n",
      "           k7t      0.873     0.901     0.887       835\n",
      "          main      0.688     0.752     0.719      1804\n",
      "     lwg__vaux      0.999     0.999     0.999      1647\n",
      "            k2      0.745     0.693     0.718      1926\n",
      "            k7      0.824     0.814     0.819      1169\n",
      "           k7p      0.733     0.765     0.748       595\n",
      "       lwg__rp      1.000     1.000     1.000       545\n",
      "lwg__vaux_cont      0.999     1.000     0.999       727\n",
      "   nmod__k1inv      0.580     0.657     0.616       105\n",
      "   jjmod__intf      1.000     1.000     1.000        28\n",
      "           k1s      0.764     0.665     0.711       346\n",
      "          vmod      0.789     0.721     0.754       420\n",
      "           k4a      0.286     0.148     0.195        27\n",
      "            k4      0.522     0.454     0.486       282\n",
      "         jjmod      0.686     0.522     0.593       113\n",
      "           mod      0.989     0.909     0.947       296\n",
      "        ras-k1      0.500     0.629     0.557        70\n",
      "           k7a      1.000     0.823     0.903       113\n",
      "            rt      0.895     0.829     0.861       246\n",
      "           adv      0.837     0.772     0.803       206\n",
      "            rs      0.645     0.707     0.674       167\n",
      "      lwg__neg      0.961     1.000     0.980       199\n",
      "            rd      0.692     0.750     0.720        24\n",
      "         r6-k1      0.231     0.107     0.146        28\n",
      "            rh      0.733     0.692     0.712       143\n",
      "        fragof      0.972     0.778     0.864        45\n",
      "    pof__redup      1.000     1.000     1.000        18\n",
      "    nmod__relc      0.500     0.194     0.279       129\n",
      "       mod__wq      0.750     0.857     0.800         7\n",
      "      sent-adv      0.694     0.773     0.731        44\n",
      "   rbmod__relc      0.000     0.000     0.000         1\n",
      "            k5      0.519     0.572     0.544       166\n",
      "           k2s      0.294     0.100     0.149        50\n",
      "            k3      0.676     0.365     0.474        63\n",
      "   nmod__k2inv      0.409     0.191     0.261        47\n",
      "        ras-k2      0.333     0.115     0.171        26\n",
      "           k2p      0.615     0.333     0.432        48\n",
      "           k2u      0.000     0.000     0.000         4\n",
      "        ras-k7      0.000     0.000     0.000         3\n",
      "           rsp      0.579     0.524     0.550        21\n",
      "           k1u      0.750     0.214     0.333        14\n",
      "       ras-neg      0.000     0.000     0.000         8\n",
      "           r6v      0.000     0.000     0.000         1\n",
      "           k2g      0.000     0.000     0.000         1\n",
      "    nmod__emph      0.667     0.800     0.727         5\n",
      "         rbmod      0.833     0.833     0.833         6\n",
      "           k7u      0.000     0.000     0.000         1\n",
      "       psp__cl      0.000     0.000     0.000         0\n",
      "     vmod__adv      0.000     0.000     0.000         0\n",
      "  nmod__pofinv      0.000     0.000     0.000         3\n",
      "       ras-k7p      0.000     0.000     0.000         2\n",
      "           pk1      0.000     0.000     0.000         0\n",
      "           jk1      0.000     0.000     0.000         0\n",
      "       ras-pof      0.000     0.000     0.000         1\n",
      "           rad      0.000     0.000     0.000         0\n",
      "          k7tu      0.000     0.000     0.000         1\n",
      "       ras__k7      0.000     0.000     0.000         0\n",
      "          k7pu      0.000     0.000     0.000         0\n",
      "           k3u      0.000     0.000     0.000         0\n",
      "        ras-r6      0.000     0.000     0.000         0\n",
      "   jjmod__relc      0.000     0.000     0.000         0\n",
      "        ras-rt      0.000     0.000     0.000         0\n",
      "       ras-k4a      0.000     0.000     0.000         0\n",
      "        ras-k4      0.000     0.000     0.000         0\n",
      "           k4u      0.000     0.000     0.000         0\n",
      "           mk1      0.000     0.000     0.000         0\n",
      "     ras-r6-k2      0.000     0.000     0.000         0\n",
      "           rtu      0.000     0.000     0.000         0\n",
      "           enm      0.000     0.000     0.000         0\n",
      "         undef      0.000     0.000     0.000         1\n",
      "\n",
      "     micro avg      0.875     0.875     0.875     38953\n",
      "     macro avg      0.461     0.429     0.438     38953\n",
      "  weighted avg      0.872     0.875     0.873     38953\n",
      "\n"
     ]
    }
   ],
   "source": [
    "test_dev_data(X_test, y_test)"
   ]
  },
  {
   "cell_type": "markdown",
   "metadata": {},
   "source": [
    "# MODEL CODE"
   ]
  },
  {
   "cell_type": "code",
   "execution_count": 47,
   "metadata": {},
   "outputs": [],
   "source": [
    "import re\n",
    "import codecs\n",
    "import pickle\n",
    "from sklearn_crfsuite import CRF\n",
    "from sklearn_crfsuite import metrics\n",
    "from sklearn_crfsuite import scorers\n",
    "from sklearn.metrics import accuracy_score"
   ]
  },
  {
   "cell_type": "code",
   "execution_count": 24,
   "metadata": {},
   "outputs": [],
   "source": [
    "def parse(input_):\n",
    "    tags = []\n",
    "    lexicons = []\n",
    "    lemma = []\n",
    "    pos= []\n",
    "    sentences = input_.split(\"\\n\\n\")\n",
    "    for sentence in sentences:\n",
    "        words = sentence.split(\"\\n\")\n",
    "        for word in words:\n",
    "            tokens = word.split(\"\\t\")\n",
    "            try:\n",
    "                tags.append(tokens[7])\n",
    "                lexicons.append(tokens[1])\n",
    "                pos.append(tokens[4])\n",
    "                lemma.append(tokens[2])\n",
    "            except:\n",
    "                print(sentence)  \n",
    "        lexicons.append(\"</s>\")\n",
    "        tags.append(\"</s>\")\n",
    "        lemma.append(\"</s>\")\n",
    "        pos.append(\"</s>\")\n",
    "    \n",
    "    lexicons.pop()\n",
    "    tags.pop()\n",
    "    lemma.pop()\n",
    "    pos.pop()\n",
    "    return lexicons, tags, pos, lemma"
   ]
  },
  {
   "cell_type": "code",
   "execution_count": 6,
   "metadata": {},
   "outputs": [],
   "source": [
    "def features(sentence, index, pos_sentence):\n",
    "#     print(sentence[index], pos_sentence[index])\n",
    "    ### sentence is of the form [w1,w2,w3,..], index is the position of the word in the sentence\n",
    "    return {\n",
    "        'word':sentence[index],\n",
    "        'is_first_word': int(index==0),\n",
    "        'is_last_word':int(index==len(sentence)-1),\n",
    "        'prev_word':'' if index==0 else sentence[index-1],\n",
    "        'next_word':'' if index==len(sentence)-1 else sentence[index+1],\n",
    "        'prev_pre_word':'' if index==0 or index==1 else sentence[index-2],\n",
    "        'next_next_word':'' if index==len(sentence)-1 or index==len(sentence)-2 else sentence[index+2],\n",
    "        'is_numeric':int(sentence[index].isdigit()),\n",
    "        'is_alphanumeric': int(bool((re.match('^(?=.*[0-9]$)(?=.*[a-zA-Z])',sentence[index])))),\n",
    "        'pos': pos_sentence[index]\n",
    "         }"
   ]
  },
  {
   "cell_type": "code",
   "execution_count": 7,
   "metadata": {},
   "outputs": [],
   "source": [
    "def prepareData(input):\n",
    "    lexicons, tags, pos, lemma = parse(input)\n",
    "#     print(len(lexicons))\n",
    "    sentences = ' '.join(lexicons).split(' </s> ')\n",
    "    sentences_pos = ' '.join(pos).split(' </s> ')\n",
    "    sentences_tags = ' '.join(tags).split(' </s> ')\n",
    "#     print(sentences_tags)\n",
    "#     print(len(sentences))\n",
    "    X=[]\n",
    "    y=[]\n",
    "    for sentenceid, sentence in enumerate(sentences):\n",
    "        words = sentence.split(' ')\n",
    "        pos = sentences_pos[sentenceid].split(' ')\n",
    "        X.append([features(words, index, pos) for index in range(len(words))])\n",
    "    for sentence_tag in sentences_tags:\n",
    "        words_tag = sentence_tag.split(' ')\n",
    "        y.append(words_tag)\n",
    "    return X, y"
   ]
  },
  {
   "cell_type": "markdown",
   "metadata": {},
   "source": [
    "POS, Chunck, Lemma, Case Marking"
   ]
  },
  {
   "cell_type": "code",
   "execution_count": 8,
   "metadata": {},
   "outputs": [],
   "source": [
    "def train_CRF(X_train,y_train):   \n",
    "    crf = CRF(\n",
    "        algorithm='lbfgs',\n",
    "        c1=0.01,\n",
    "        c2=0.1,\n",
    "        max_iterations=100,\n",
    "        all_possible_transitions=True\n",
    "    )\n",
    "    crf.fit(X_train, y_train)\n",
    "    pickle.dump(crf, open(\"./annCorra_crf_pos_model\", 'wb'))"
   ]
  },
  {
   "cell_type": "code",
   "execution_count": 40,
   "metadata": {},
   "outputs": [],
   "source": [
    "train_file = codecs.open('./final_train.txt', 'r', encoding=\"utf-8\")\n",
    "traininput = train_file.read()\n",
    "\n",
    "# dev_file = codecs.open('./final_dev.txt', 'r', encoding=\"utf-8\")\n",
    "# devinput = dev_file.read()"
   ]
  },
  {
   "cell_type": "code",
   "execution_count": 41,
   "metadata": {},
   "outputs": [],
   "source": [
    "X_train, y_train = prepareData(traininput)"
   ]
  },
  {
   "cell_type": "code",
   "execution_count": null,
   "metadata": {},
   "outputs": [],
   "source": [
    "# print(len(X_train))\n",
    "# print((y_train))"
   ]
  },
  {
   "cell_type": "code",
   "execution_count": 12,
   "metadata": {},
   "outputs": [],
   "source": [
    "train_CRF(X_train, y_train)"
   ]
  },
  {
   "cell_type": "code",
   "execution_count": 38,
   "metadata": {},
   "outputs": [],
   "source": [
    "# X_dev,y_dev = prepareData(devinput)"
   ]
  },
  {
   "cell_type": "code",
   "execution_count": 39,
   "metadata": {},
   "outputs": [],
   "source": [
    "# test_dev_data(X_test, y_test)"
   ]
  }
 ],
 "metadata": {
  "kernelspec": {
   "display_name": "Python 3",
   "language": "python",
   "name": "python3"
  },
  "language_info": {
   "codemirror_mode": {
    "name": "ipython",
    "version": 3
   },
   "file_extension": ".py",
   "mimetype": "text/x-python",
   "name": "python",
   "nbconvert_exporter": "python",
   "pygments_lexer": "ipython3",
   "version": "3.7.0"
  }
 },
 "nbformat": 4,
 "nbformat_minor": 4
}
