{
 "cells": [
  {
   "cell_type": "code",
   "execution_count": 16,
   "metadata": {},
   "outputs": [],
   "source": [
    "from collections import defaultdict, Counter\n"
   ]
  },
  {
   "cell_type": "code",
   "execution_count": 2,
   "metadata": {},
   "outputs": [],
   "source": [
    "train_file = open('./final_train.txt', 'r', encoding=\"utf-8\")\n",
    "traininput = train_file.read()"
   ]
  },
  {
   "cell_type": "code",
   "execution_count": 24,
   "metadata": {},
   "outputs": [],
   "source": [
    "def parse(input_):\n",
    "    tags = []\n",
    "    lexicons = []\n",
    "    lemma = []\n",
    "    pos= []\n",
    "    sentences = input_.split(\"\\n\\n\")\n",
    "    for sentence in sentences:\n",
    "        words = sentence.split(\"\\n\")\n",
    "        for word in words:\n",
    "            tokens = word.split(\"\\t\")\n",
    "            try:\n",
    "                tags.append(tokens[7])\n",
    "                lexicons.append(tokens[1])\n",
    "                pos.append(tokens[3])\n",
    "                lemma.append(tokens[2])\n",
    "            except:\n",
    "                print(sentence)  \n",
    "        lexicons.append(\"</s>\")\n",
    "        tags.append(\"</s>\")\n",
    "        lemma.append(\"</s>\")\n",
    "        pos.append(\"</s>\")\n",
    "    \n",
    "    lexicons.pop()\n",
    "    tags.pop()\n",
    "    lemma.pop()\n",
    "    pos.pop()\n",
    "    return lexicons, tags, pos, lemma"
   ]
  },
  {
   "cell_type": "code",
   "execution_count": 25,
   "metadata": {},
   "outputs": [],
   "source": [
    "lexicons, tags, pos, lemma = parse(traininput)"
   ]
  },
  {
   "cell_type": "code",
   "execution_count": 29,
   "metadata": {},
   "outputs": [
    {
     "name": "stdout",
     "output_type": "stream",
     "text": [
      "316463 316463 316463 316463\n"
     ]
    }
   ],
   "source": [
    "print(len(lemma), len(lexicons), len(tags), len(pos))"
   ]
  },
  {
   "cell_type": "markdown",
   "metadata": {},
   "source": [
    "# 3.1 Tags and Markers"
   ]
  },
  {
   "cell_type": "code",
   "execution_count": null,
   "metadata": {},
   "outputs": [],
   "source": [
    "tags_markers = Counter()\n",
    "for i in range(len(tags)):\n",
    "    if tag[i+1] == 'lwg__psp':\n",
    "        "
   ]
  },
  {
   "cell_type": "markdown",
   "metadata": {},
   "source": [
    "# 3.2 Markers and Tags"
   ]
  },
  {
   "cell_type": "markdown",
   "metadata": {},
   "source": [
    "### NST LEFT"
   ]
  },
  {
   "cell_type": "code",
   "execution_count": 49,
   "metadata": {},
   "outputs": [],
   "source": [
    "# markers_tags = defaultdict(lambda: defaultdict(int))\n",
    "markers_tags = Counter()\n",
    "for i in range(len(pos)):\n",
    "    if pos[i] == \"psp\" and pos[i+1] == \"psp\" and pos[i+2]=='psp':\n",
    "        a = lexicons[i] + \" \" + lexicons[i+1] + \" \" + lexicons[i+2]\n",
    "        markers_tags[a, tags[i-1]] += 1\n",
    "#         print(a,\"1\", pos[i+1])\n",
    "    elif pos[i] == \"psp\" and pos[i+1] == \"psp\" and pos[i-1]!='psp':\n",
    "        a = lexicons[i] + \" \" + lexicons[i+1]\n",
    "#         print(a,\"2\")\n",
    "        markers_tags[a, tags[i-1]] += 1\n",
    "    elif pos[i] == \"psp\" and pos[i+1] != \"psp\" and pos[i-1] != \"psp\":\n",
    "        markers_tags[lexicons[i], tags[i-1]] += 1\n",
    "#         if(tags[i-1] == 'lwg__psp'):\n",
    "#             print(lexicons[i-2], lexicons[i-1], lexicons[i], lexicons[i+1], lexicons[i+2])"
   ]
  },
  {
   "cell_type": "code",
   "execution_count": 50,
   "metadata": {},
   "outputs": [],
   "source": [
    "sort_mark = sorted(markers_tags.items(), key=lambda i: i[0])"
   ]
  },
  {
   "cell_type": "code",
   "execution_count": 52,
   "metadata": {},
   "outputs": [],
   "source": [
    "# for i in sort_mark:\n",
    "#     print(i)"
   ]
  },
  {
   "cell_type": "code",
   "execution_count": 36,
   "metadata": {},
   "outputs": [],
   "source": [
    "# print(markers_tags)"
   ]
  }
 ],
 "metadata": {
  "kernelspec": {
   "display_name": "Python 3",
   "language": "python",
   "name": "python3"
  },
  "language_info": {
   "codemirror_mode": {
    "name": "ipython",
    "version": 3
   },
   "file_extension": ".py",
   "mimetype": "text/x-python",
   "name": "python",
   "nbconvert_exporter": "python",
   "pygments_lexer": "ipython3",
   "version": "3.7.0"
  }
 },
 "nbformat": 4,
 "nbformat_minor": 4
}
