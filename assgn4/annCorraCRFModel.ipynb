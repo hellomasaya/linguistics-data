{
 "cells": [
  {
   "cell_type": "markdown",
   "metadata": {},
   "source": [
    "# TESTING CODE"
   ]
  },
  {
   "cell_type": "markdown",
   "metadata": {},
   "source": [
    "Model Used: CRF\n",
    "\n",
    "Evalutation:\n",
    "1. Precision: 0.873\n",
    "2. Recall: 0.876     \n",
    "3. F1 Score: 0.873 \n",
    "4. Accuracy Score: 0.88"
   ]
  },
  {
   "cell_type": "code",
   "execution_count": 15,
   "metadata": {},
   "outputs": [],
   "source": [
    "test_file = codecs.open('./final_test.txt', 'r', encoding=\"utf-8\")\n",
    "testinput = test_file.read()"
   ]
  },
  {
   "cell_type": "code",
   "execution_count": 16,
   "metadata": {},
   "outputs": [],
   "source": [
    "X_test,y_test = prepareData(testinput)"
   ]
  },
  {
   "cell_type": "code",
   "execution_count": 35,
   "metadata": {},
   "outputs": [],
   "source": [
    "# print(len(X_test))\n",
    "# print(len(y_test))"
   ]
  },
  {
   "cell_type": "code",
   "execution_count": 27,
   "metadata": {},
   "outputs": [],
   "source": [
    "def test_dev_data(X_test,y_test):\n",
    "    crf = pickle.load(open('./annCorra_crf_all_features_model', 'rb'))\n",
    "    y_pred=crf.predict(X_test)\n",
    "    print(\"Accuracy\")\n",
    "    print(metrics.flat_accuracy_score(y_test, y_pred))\n",
    "    print(\"F1 score on Test Data \")\n",
    "    print(metrics.flat_f1_score(y_test, y_pred,average='weighted',labels=crf.classes_))\n",
    "    print(\"F1 score on Training Data \")\n",
    "    y_pred_train=crf.predict(X_train)\n",
    "    print(metrics.flat_f1_score(y_train, y_pred_train,average='weighted',labels=crf.classes_))\n",
    "\n",
    "    ### Look at class wise score\n",
    "    print(metrics.flat_classification_report(\n",
    "        y_test, y_pred, labels=crf.classes_, digits=3\n",
    "    ))"
   ]
  },
  {
   "cell_type": "code",
   "execution_count": null,
   "metadata": {},
   "outputs": [],
   "source": []
  },
  {
   "cell_type": "code",
   "execution_count": 26,
   "metadata": {},
   "outputs": [
    {
     "name": "stdout",
     "output_type": "stream",
     "text": [
      "Accuracy\n",
      "0.8761872978384762\n",
      "F1 score on Test Data \n",
      "0.8734304456337204\n",
      "F1 score on Training Data \n",
      "0.9726559914522154\n",
      "                precision    recall  f1-score   support\n",
      "\n",
      "          ccof      0.686     0.682     0.684      2490\n",
      "          rsym      0.999     1.000     0.999      2753\n",
      "            r6      0.836     0.899     0.867      2287\n",
      "      lwg__psp      0.999     0.999     0.999      8143\n",
      "          nmod      0.635     0.562     0.596       698\n",
      "     nmod__adj      0.933     0.961     0.947      3017\n",
      "         r6-k2      0.612     0.534     0.570       277\n",
      "           pof      0.858     0.879     0.869      1508\n",
      "       pof__cn      1.000     1.000     1.000      2701\n",
      "            k1      0.762     0.836     0.797      2302\n",
      "           k7t      0.875     0.910     0.892       835\n",
      "          main      0.695     0.749     0.721      1804\n",
      "     lwg__vaux      0.999     0.999     0.999      1647\n",
      "            k2      0.749     0.694     0.720      1926\n",
      "            k7      0.834     0.814     0.824      1169\n",
      "           k7p      0.738     0.787     0.762       595\n",
      "       lwg__rp      0.998     1.000     0.999       545\n",
      "lwg__vaux_cont      0.999     1.000     0.999       727\n",
      "   nmod__k1inv      0.607     0.676     0.640       105\n",
      "   jjmod__intf      1.000     1.000     1.000        28\n",
      "           k1s      0.735     0.659     0.695       346\n",
      "          vmod      0.827     0.738     0.780       420\n",
      "           k4a      0.385     0.185     0.250        27\n",
      "            k4      0.520     0.450     0.483       282\n",
      "         jjmod      0.637     0.513     0.569       113\n",
      "           mod      0.985     0.895     0.938       296\n",
      "        ras-k1      0.466     0.586     0.519        70\n",
      "           k7a      0.979     0.823     0.894       113\n",
      "            rt      0.891     0.833     0.861       246\n",
      "           adv      0.847     0.777     0.810       206\n",
      "            rs      0.646     0.701     0.672       167\n",
      "      lwg__neg      0.957     1.000     0.978       199\n",
      "            rd      0.680     0.708     0.694        24\n",
      "         r6-k1      0.267     0.143     0.186        28\n",
      "            rh      0.745     0.713     0.729       143\n",
      "        fragof      0.971     0.756     0.850        45\n",
      "    pof__redup      1.000     1.000     1.000        18\n",
      "    nmod__relc      0.468     0.171     0.250       129\n",
      "       mod__wq      0.750     0.857     0.800         7\n",
      "      sent-adv      0.700     0.795     0.745        44\n",
      "   rbmod__relc      0.000     0.000     0.000         1\n",
      "            k5      0.537     0.572     0.554       166\n",
      "           k2s      0.357     0.100     0.156        50\n",
      "            k3      0.639     0.365     0.465        63\n",
      "   nmod__k2inv      0.400     0.170     0.239        47\n",
      "        ras-k2      0.222     0.077     0.114        26\n",
      "           k2p      0.615     0.333     0.432        48\n",
      "           k2u      0.000     0.000     0.000         4\n",
      "        ras-k7      0.000     0.000     0.000         3\n",
      "           rsp      0.588     0.476     0.526        21\n",
      "           k1u      0.667     0.143     0.235        14\n",
      "       ras-neg      0.000     0.000     0.000         8\n",
      "           r6v      0.000     0.000     0.000         1\n",
      "           k2g      0.000     0.000     0.000         1\n",
      "    nmod__emph      0.667     0.800     0.727         5\n",
      "         rbmod      0.833     0.833     0.833         6\n",
      "           k7u      0.000     0.000     0.000         1\n",
      "       psp__cl      0.000     0.000     0.000         0\n",
      "     vmod__adv      0.000     0.000     0.000         0\n",
      "  nmod__pofinv      0.000     0.000     0.000         3\n",
      "       ras-k7p      0.000     0.000     0.000         2\n",
      "           pk1      0.000     0.000     0.000         0\n",
      "           jk1      0.000     0.000     0.000         0\n",
      "       ras-pof      0.000     0.000     0.000         1\n",
      "           rad      0.000     0.000     0.000         0\n",
      "          k7tu      0.000     0.000     0.000         1\n",
      "       ras__k7      0.000     0.000     0.000         0\n",
      "          k7pu      0.000     0.000     0.000         0\n",
      "           k3u      0.000     0.000     0.000         0\n",
      "        ras-r6      0.000     0.000     0.000         0\n",
      "   jjmod__relc      0.000     0.000     0.000         0\n",
      "        ras-rt      0.000     0.000     0.000         0\n",
      "       ras-k4a      0.000     0.000     0.000         0\n",
      "        ras-k4      0.000     0.000     0.000         0\n",
      "           k4u      0.000     0.000     0.000         0\n",
      "           mk1      0.000     0.000     0.000         0\n",
      "     ras-r6-k2      0.000     0.000     0.000         0\n",
      "           rtu      0.000     0.000     0.000         0\n",
      "           enm      0.000     0.000     0.000         0\n",
      "         undef      0.000     0.000     0.000         1\n",
      "\n",
      "     micro avg      0.876     0.876     0.876     38953\n",
      "     macro avg      0.460     0.427     0.436     38953\n",
      "  weighted avg      0.873     0.876     0.873     38953\n",
      "\n"
     ]
    }
   ],
   "source": [
    "test_dev_data(X_test, y_test)"
   ]
  },
  {
   "cell_type": "code",
   "execution_count": null,
   "metadata": {},
   "outputs": [],
   "source": []
  },
  {
   "cell_type": "markdown",
   "metadata": {},
   "source": [
    "# MODEL CODE"
   ]
  },
  {
   "cell_type": "code",
   "execution_count": 4,
   "metadata": {},
   "outputs": [],
   "source": [
    "import re\n",
    "import codecs\n",
    "import pickle\n",
    "from sklearn_crfsuite import CRF\n",
    "from sklearn_crfsuite import metrics\n",
    "from sklearn_crfsuite import scorers"
   ]
  },
  {
   "cell_type": "code",
   "execution_count": 5,
   "metadata": {},
   "outputs": [],
   "source": [
    "def parse(input_):\n",
    "    tags = []\n",
    "    lexicons = []\n",
    "    lemma = []\n",
    "    pos = []\n",
    "    tam = []\n",
    "    gender = []\n",
    "    number = []\n",
    "    person = []\n",
    "    sentences = input_.split(\"\\n\\n\")\n",
    "    for sentence in sentences:\n",
    "        words = sentence.split(\"\\n\")\n",
    "        for word in words:\n",
    "            tokens = word.split(\"\\t\")\n",
    "            try:\n",
    "                tags.append(tokens[7])\n",
    "                lexicons.append(tokens[1])\n",
    "                pos.append(tokens[4])\n",
    "                lemma.append(tokens[2])\n",
    "                extra = tokens[5].split(\"|\")\n",
    "                for info in extra:\n",
    "                    if \"tam\" in info:\n",
    "                        tam_ = info.split(\"-\")\n",
    "                        tam.append(tam_[1])\n",
    "                    if \"gen\" in info:\n",
    "                        gen_ = info.split(\"-\")\n",
    "                        gender.append(gen_[1])\n",
    "                    if \"num\" in info:\n",
    "                        num_ = info.split(\"-\")\n",
    "                        number.append(num_[1])\n",
    "                    if \"pers\" in info:\n",
    "                        pers_ = info.split(\"-\")\n",
    "                        person.append(pers_[1])\n",
    "            except:\n",
    "                print(sentence)  \n",
    "        lexicons.append(\"</s>\")\n",
    "        tags.append(\"</s>\")\n",
    "        lemma.append(\"</s>\")\n",
    "        pos.append(\"</s>\")\n",
    "        tam.append(\"</s>\")\n",
    "        gender.append(\"</s>\")\n",
    "        number.append(\"</s>\")\n",
    "        person.append(\"</s>\")\n",
    "    \n",
    "    lexicons.pop()\n",
    "    tags.pop()\n",
    "    lemma.pop()\n",
    "    pos.pop()\n",
    "    tam.pop()\n",
    "    gender.pop()\n",
    "    number.pop()\n",
    "    person.pop()\n",
    "    return lexicons, tags, pos, lemma, tam, gender, number, person"
   ]
  },
  {
   "cell_type": "code",
   "execution_count": 6,
   "metadata": {},
   "outputs": [],
   "source": [
    "def features(sentence, index, pos_sentence, tam, g, n ,p, lemma):\n",
    "#     print(sentence[index], pos_sentence[index])\n",
    "    ### sentence is of the form [w1,w2,w3,..], index is the position of the word in the sentence\n",
    "    return {\n",
    "        'word':sentence[index],\n",
    "        'is_first_word': int(index==0),\n",
    "        'is_last_word':int(index==len(sentence)-1),\n",
    "        'prev_word':'' if index==0 else sentence[index-1],\n",
    "        'next_word':'' if index==len(sentence)-1 else sentence[index+1],\n",
    "        'prev_pre_word':'' if index==0 or index==1 else sentence[index-2],\n",
    "        'next_next_word':'' if index==len(sentence)-1 or index==len(sentence)-2 else sentence[index+2],\n",
    "        'is_numeric':int(sentence[index].isdigit()),\n",
    "        'is_alphanumeric': int(bool((re.match('^(?=.*[0-9]$)(?=.*[a-zA-Z])',sentence[index])))),\n",
    "        'pos': pos_sentence[index],\n",
    "        'tam':tam[index],\n",
    "        'gender': g[index],\n",
    "        'number':n[index],\n",
    "        'person':p[index],\n",
    "        'lemma': lemma[index]\n",
    "         }"
   ]
  },
  {
   "cell_type": "code",
   "execution_count": 7,
   "metadata": {},
   "outputs": [],
   "source": [
    "def prepareData(input):\n",
    "    lexicons, tags, pos, lemma, tam, g, n ,p = parse(input)\n",
    "#     print(len(lexicons))\n",
    "    sentences = ' '.join(lexicons).split(' </s> ')\n",
    "    sentences_pos = ' '.join(pos).split(' </s> ')\n",
    "    sentences_tags = ' '.join(tags).split(' </s> ')\n",
    "    sentences_tam = ' '.join(tam).split(' </s> ')\n",
    "    sentences_g = ' '.join(g).split(' </s> ')\n",
    "    sentences_n = ' '.join(n).split(' </s> ')\n",
    "    sentences_p = ' '.join(p).split(' </s> ')\n",
    "    sentences_lemma = ' '.join(lemma).split(' </s> ')\n",
    "#     print(sentences_tags)\n",
    "#     print(len(sentences))\n",
    "    X=[]\n",
    "    y=[]\n",
    "    for sentenceid, sentence in enumerate(sentences):\n",
    "        words = sentence.split(' ')\n",
    "        pos = sentences_pos[sentenceid].split(' ')\n",
    "        tam = sentences_tam[sentenceid].split(' ')\n",
    "        g = sentences_g[sentenceid].split(' ')\n",
    "        n = sentences_n[sentenceid].split(' ')\n",
    "        p = sentences_p[sentenceid].split(' ')\n",
    "        lemma = sentences_lemma[sentenceid].split(' ')\n",
    "        X.append([features(words, index, pos, tam, g, n ,p, lemma) for index in range(len(words))])\n",
    "    for sentence_tag in sentences_tags:\n",
    "        words_tag = sentence_tag.split(' ')\n",
    "        y.append(words_tag)\n",
    "    return X, y"
   ]
  },
  {
   "cell_type": "code",
   "execution_count": 8,
   "metadata": {},
   "outputs": [],
   "source": [
    "def train_CRF(X_train,y_train):   \n",
    "    crf = CRF(\n",
    "        algorithm='lbfgs',\n",
    "        c1=0.01,\n",
    "        c2=0.1,\n",
    "        max_iterations=100,\n",
    "        all_possible_transitions=True\n",
    "    )\n",
    "    crf.fit(X_train, y_train)\n",
    "    pickle.dump(crf, open(\"./annCorra_crf_all_features_model\", 'wb'))"
   ]
  },
  {
   "cell_type": "code",
   "execution_count": 9,
   "metadata": {},
   "outputs": [],
   "source": [
    "train_file = codecs.open('./final_train.txt', 'r', encoding=\"utf-8\")\n",
    "traininput = train_file.read()\n",
    "\n",
    "# dev_file = codecs.open('./final_dev.txt', 'r', encoding=\"utf-8\")\n",
    "# devinput = dev_file.read()"
   ]
  },
  {
   "cell_type": "code",
   "execution_count": 10,
   "metadata": {},
   "outputs": [],
   "source": [
    "X_train, y_train = prepareData(traininput)"
   ]
  },
  {
   "cell_type": "code",
   "execution_count": 13,
   "metadata": {},
   "outputs": [],
   "source": [
    "# print((X_train[0]))\n",
    "# print((y_train))"
   ]
  },
  {
   "cell_type": "code",
   "execution_count": 14,
   "metadata": {},
   "outputs": [],
   "source": [
    "train_CRF(X_train, y_train)"
   ]
  },
  {
   "cell_type": "code",
   "execution_count": 38,
   "metadata": {},
   "outputs": [],
   "source": [
    "# X_dev,y_dev = prepareData(devinput)"
   ]
  },
  {
   "cell_type": "code",
   "execution_count": 39,
   "metadata": {},
   "outputs": [],
   "source": [
    "# test_dev_data(X_test, y_test)"
   ]
  }
 ],
 "metadata": {
  "kernelspec": {
   "display_name": "Python 3",
   "language": "python",
   "name": "python3"
  },
  "language_info": {
   "codemirror_mode": {
    "name": "ipython",
    "version": 3
   },
   "file_extension": ".py",
   "mimetype": "text/x-python",
   "name": "python",
   "nbconvert_exporter": "python",
   "pygments_lexer": "ipython3",
   "version": "3.7.0"
  }
 },
 "nbformat": 4,
 "nbformat_minor": 4
}
